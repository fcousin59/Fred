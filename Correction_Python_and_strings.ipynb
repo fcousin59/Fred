{
  "nbformat": 4,
  "nbformat_minor": 0,
  "metadata": {
    "colab": {
      "name": "Correction Python and strings.ipynb",
      "provenance": [],
      "collapsed_sections": [],
      "include_colab_link": true
    },
    "kernelspec": {
      "name": "python3",
      "display_name": "Python 3"
    }
  },
  "cells": [
    {
      "cell_type": "markdown",
      "metadata": {
        "id": "view-in-github",
        "colab_type": "text"
      },
      "source": [
        "<a href=\"https://colab.research.google.com/github/fcousin59/Fred/blob/master/Correction_Python_and_strings.ipynb\" target=\"_parent\"><img src=\"https://colab.research.google.com/assets/colab-badge.svg\" alt=\"Open In Colab\"/></a>"
      ]
    },
    {
      "cell_type": "markdown",
      "metadata": {
        "id": "LoJw-LlCTnWF",
        "colab_type": "text"
      },
      "source": [
        "# Mission 1\n",
        "\n",
        "Create a function that uses the len method to display the length of the string named: \"string\" below.\n",
        "\n",
        "Make the character count returned by your function ignore the number of spaces (without changing the string).\n",
        "\n",
        "string = \"Taumata whakatangihanga koauau o tamatea turi pukaka piki maungah oronuku pokai whenuaki tanatahu \""
      ]
    },
    {
      "cell_type": "markdown",
      "metadata": {
        "id": "3r36sU8I8A3F",
        "colab_type": "text"
      },
      "source": [
        "# Nouvelle section"
      ]
    },
    {
      "cell_type": "code",
      "metadata": {
        "colab_type": "code",
        "id": "oweHYwlm1EVo",
        "colab": {
          "base_uri": "https://localhost:8080/",
          "height": 35
        },
        "outputId": "976e7758-19e1-4037-f395-c56426819521"
      },
      "source": [
        "Texte = \"Taumata whakatangihanga koauau o tamatea turi pukaka piki maungah oronuku pokai whenuaki tanatahu \"\n",
        "def mission1(Texte):\n",
        "    longueur = len(Texte)\n",
        "    espace = Texte.count(\" \")\n",
        "    print (longueur-espace)\n",
        "\n",
        "mission1(Texte)\n",
        "\n"
      ],
      "execution_count": null,
      "outputs": [
        {
          "output_type": "stream",
          "text": [
            "85\n"
          ],
          "name": "stdout"
        }
      ]
    },
    {
      "cell_type": "code",
      "metadata": {
        "id": "KtnSIniPfaHc",
        "colab_type": "code",
        "colab": {}
      },
      "source": [
        ""
      ],
      "execution_count": null,
      "outputs": []
    },
    {
      "cell_type": "markdown",
      "metadata": {
        "id": "iP3mdwoPvjS0",
        "colab_type": "text"
      },
      "source": [
        "# Nouvelle section"
      ]
    },
    {
      "cell_type": "markdown",
      "metadata": {
        "id": "J3bsGIvAT049",
        "colab_type": "text"
      },
      "source": [
        "# Mission 2\n",
        "\n",
        "Create a function that takes a string as one parameter and a character as another parameter. The function should return the position (starting with 1 and not 0) of all occurrences of the character within the string.\n",
        "\n",
        "For example for the word \"hello\" and for the character \"o\" the function will return :\n",
        "- \"position : 5\""
      ]
    },
    {
      "cell_type": "code",
      "metadata": {
        "id": "Fy1OmPSUXNaP",
        "colab_type": "code",
        "colab": {
          "base_uri": "https://localhost:8080/",
          "height": 35
        },
        "outputId": "56d06647-9039-4af2-ba2d-189fad9b2c92"
      },
      "source": [
        "Texte = \"hello\"\n",
        "def mission2(Texte):\n",
        "  print(Texte.find('l') +1)\n",
        "\n",
        "mission2(Texte)"
      ],
      "execution_count": null,
      "outputs": [
        {
          "output_type": "stream",
          "text": [
            "3\n"
          ],
          "name": "stdout"
        }
      ]
    },
    {
      "cell_type": "code",
      "metadata": {
        "id": "SxmWYXnffvHg",
        "colab_type": "code",
        "colab": {
          "base_uri": "https://localhost:8080/",
          "height": 54
        },
        "outputId": "196a00d7-c858-4aff-b906-8dc0403878c1"
      },
      "source": [
        "chaine = \"bonjour\"\n",
        "charac = \"o\"\n",
        "\n",
        "compteur = 1\n",
        "\n",
        "for lettre in chaine:\n",
        "  if lettre == charac:\n",
        "    print(compteur, \"oui\", lettre)\n",
        "  compteur += 1"
      ],
      "execution_count": null,
      "outputs": [
        {
          "output_type": "stream",
          "text": [
            "2 oui o\n",
            "5 oui o\n"
          ],
          "name": "stdout"
        }
      ]
    },
    {
      "cell_type": "code",
      "metadata": {
        "id": "lMdqApqMgc3o",
        "colab_type": "code",
        "colab": {}
      },
      "source": [
        "def fonction_postition(maChaine, maLettre):\n",
        "  compteur = 1\n",
        "  for lettre in maChaine:\n",
        "    if lettre == maLettre:\n",
        "      print(maLettre, \"position\", compteur)\n",
        "    compteur += 1"
      ],
      "execution_count": null,
      "outputs": []
    },
    {
      "cell_type": "code",
      "metadata": {
        "id": "cytRliihgzoB",
        "colab_type": "code",
        "colab": {
          "base_uri": "https://localhost:8080/",
          "height": 54
        },
        "outputId": "1a088ace-eba4-4a32-8d1b-5954ac9ef4bf"
      },
      "source": [
        "fonction_postition(chaine, charac)"
      ],
      "execution_count": null,
      "outputs": [
        {
          "output_type": "stream",
          "text": [
            "o position 2\n",
            "o position 5\n"
          ],
          "name": "stdout"
        }
      ]
    },
    {
      "cell_type": "markdown",
      "metadata": {
        "id": "dVl36lvlWLdV",
        "colab_type": "text"
      },
      "source": [
        "# Mission 3\n",
        "\n",
        "Create a function that only displays characters from one position to another position. In other words, make it so that you are able decide the exact character range to be displayed."
      ]
    },
    {
      "cell_type": "code",
      "metadata": {
        "id": "pN3_mD4YSPfb",
        "colab_type": "code",
        "colab": {
          "base_uri": "https://localhost:8080/",
          "height": 35
        },
        "outputId": "28ef7374-a07d-4681-e2c7-42fc5a8751d5"
      },
      "source": [
        "Texte = \"Hello\"\n",
        "def mission3(Texte):  \n",
        "  print(Texte[1:3])\n",
        "\n",
        "mission3(Texte)"
      ],
      "execution_count": null,
      "outputs": [
        {
          "output_type": "stream",
          "text": [
            "el\n"
          ],
          "name": "stdout"
        }
      ]
    },
    {
      "cell_type": "markdown",
      "metadata": {
        "id": "GCvpkWzXXPTf",
        "colab_type": "text"
      },
      "source": [
        "# Mission 4\n",
        "\n",
        "Find 3 ways to return the following string without including the spaces at the beginning and end only (without changing the string): \" Data Analyst \"."
      ]
    },
    {
      "cell_type": "code",
      "metadata": {
        "id": "QjLMjogySPk_",
        "colab_type": "code",
        "colab": {
          "base_uri": "https://localhost:8080/",
          "height": 72
        },
        "outputId": "12720e36-a0e3-490f-b223-4def29f3796a"
      },
      "source": [
        "Texte = \" Data Analyst \"\n",
        "print(Texte.strip())\n",
        "\n",
        "print(\" \".join(Texte.split()))\n",
        "\n",
        "import re\n",
        "string = re.sub(\"^\\s+|\\s+$\",\"\",Texte, flags=re.UNICODE)\n",
        "print(Texte)"
      ],
      "execution_count": null,
      "outputs": [
        {
          "output_type": "stream",
          "text": [
            "Data Analyst\n",
            "Data Analyst\n",
            " Data Analyst \n"
          ],
          "name": "stdout"
        }
      ]
    },
    {
      "cell_type": "markdown",
      "metadata": {
        "id": "V8ZS3aECXvuZ",
        "colab_type": "text"
      },
      "source": [
        "# Mission 5\n",
        "\n",
        "Create a function that converts all vowels to uppercase and all consonants to lowercase."
      ]
    },
    {
      "cell_type": "code",
      "metadata": {
        "id": "ph_j97PoSPmU",
        "colab_type": "code",
        "colab": {
          "base_uri": "https://localhost:8080/",
          "height": 183
        },
        "outputId": "2ce85fcf-93e8-4c96-fad5-e7429eb23bc0"
      },
      "source": [
        "Texte = \"bienvenue\"\n",
        "def mission5 (Texte):\n",
        "  vowels = [\"a\", \"e\", \"i\", \"o\", \"u\", \"y\"]\n",
        "  for lettre in Texte:\n",
        "    if lettre in vowels:\n",
        "      print(lettre.upper())\n",
        "    else:\n",
        "      print(lettre.lower())\n",
        "\n",
        "mission5(Texte)"
      ],
      "execution_count": null,
      "outputs": [
        {
          "output_type": "stream",
          "text": [
            "b\n",
            "I\n",
            "E\n",
            "n\n",
            "v\n",
            "E\n",
            "n\n",
            "U\n",
            "E\n"
          ],
          "name": "stdout"
        }
      ]
    },
    {
      "cell_type": "code",
      "metadata": {
        "id": "X2Pwg6pPiKKp",
        "colab_type": "code",
        "colab": {
          "base_uri": "https://localhost:8080/",
          "height": 165
        },
        "outputId": "df2c0b15-e138-4dae-96c0-f2bec483d8c8"
      },
      "source": [
        "mission5(\"BIENVENU\")"
      ],
      "execution_count": null,
      "outputs": [
        {
          "output_type": "stream",
          "text": [
            "b\n",
            "i\n",
            "e\n",
            "n\n",
            "v\n",
            "e\n",
            "n\n",
            "u\n"
          ],
          "name": "stdout"
        }
      ]
    },
    {
      "cell_type": "code",
      "metadata": {
        "id": "w9Z4zMTHiVDk",
        "colab_type": "code",
        "colab": {
          "base_uri": "https://localhost:8080/",
          "height": 35
        },
        "outputId": "9d41ae24-aba6-431b-ff57-9c79a2cbfaef"
      },
      "source": [
        "Texte = \"bienvenue\"\n",
        "def mission5 (Texte):\n",
        "  vowels = [\"a\", \"e\", \"i\", \"o\", \"u\", \"y\"]\n",
        "  Texte.lower()\n",
        "  for lettre in Texte:\n",
        "    if lettre in vowels:\n",
        "      print(lettre.upper(), end=\"\")\n",
        "    else:\n",
        "      print(lettre.lower(), end=\"\")\n",
        "\n",
        "mission5(Texte)"
      ],
      "execution_count": null,
      "outputs": [
        {
          "output_type": "stream",
          "text": [
            "bIEnvEnUE"
          ],
          "name": "stdout"
        }
      ]
    },
    {
      "cell_type": "markdown",
      "metadata": {
        "id": "geMLdrvAYHKx",
        "colab_type": "text"
      },
      "source": [
        "# Mission 6\n",
        "\n",
        "Create a function that replaces one character with another and redisplays the modified string."
      ]
    },
    {
      "cell_type": "code",
      "metadata": {
        "id": "1-cenx3RSPpq",
        "colab_type": "code",
        "colab": {
          "base_uri": "https://localhost:8080/",
          "height": 35
        },
        "outputId": "a18ee0eb-4629-4f81-ce63-230b15572740"
      },
      "source": [
        "Texte = \"hello\"\n",
        "def mission6(Texte):\n",
        "  print(Texte.replace(\"e\", \"a\"))\n",
        "  \n",
        "mission6(Texte)"
      ],
      "execution_count": null,
      "outputs": [
        {
          "output_type": "stream",
          "text": [
            "hallo\n"
          ],
          "name": "stdout"
        }
      ]
    },
    {
      "cell_type": "code",
      "metadata": {
        "id": "XKzG7YJljZxS",
        "colab_type": "code",
        "colab": {
          "base_uri": "https://localhost:8080/",
          "height": 35
        },
        "outputId": "55aab4b9-503b-4662-d15d-a4423f9dce91"
      },
      "source": [
        "Texte = \"hello\"\n",
        "def mission6(Texte, lettre_avant, lettre_apres):\n",
        "  print(Texte.replace(lettre_avant, lettre_apres))\n",
        "  \n",
        "mission6(Texte, \"e\", \"a\")"
      ],
      "execution_count": null,
      "outputs": [
        {
          "output_type": "stream",
          "text": [
            "hallo\n"
          ],
          "name": "stdout"
        }
      ]
    },
    {
      "cell_type": "code",
      "metadata": {
        "id": "eiX58elCjAp9",
        "colab_type": "code",
        "colab": {}
      },
      "source": [
        ""
      ],
      "execution_count": null,
      "outputs": []
    }
  ]
}